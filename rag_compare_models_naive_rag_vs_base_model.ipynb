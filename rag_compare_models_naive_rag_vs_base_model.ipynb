{
  "cells": [
    {
      "cell_type": "markdown",
      "source": [
        "## Steps to run this notebook:\n",
        "1. Go to sslvpn.asu.edu and install the Cisco AnyConnect Client VPN\n",
        "• Faculty, staff, and students will also need Duo Two-Factor\n",
        "Authentication\n",
        "2. In the connect window, enter “sslvpn.asu.edu/2fa”\n",
        "3. Sign in with ASURITE, ASU password, and DUO two-factor\n",
        "authentication method\n",
        "4. Login to sol using: https://sol.asu.edu/\n",
        "5. Select Jupyter Notebook server and launch the server selecting the required cores, hour of operation and hackathon sbatch options code."
      ],
      "metadata": {
        "id": "1DVpgzsS4Ik8"
      },
      "id": "1DVpgzsS4Ik8"
    },
    {
      "cell_type": "markdown",
      "id": "935cf2fe-088f-4a5f-95a1-3294a66a11a5",
      "metadata": {
        "id": "935cf2fe-088f-4a5f-95a1-3294a66a11a5"
      },
      "source": [
        "# Base Model Interface"
      ]
    },
    {
      "cell_type": "code",
      "execution_count": null,
      "id": "9b57d9b3-d93b-49a8-a49b-1bd8b880edcc",
      "metadata": {
        "id": "9b57d9b3-d93b-49a8-a49b-1bd8b880edcc"
      },
      "outputs": [],
      "source": [
        "import os\n",
        "import gradio as gr\n",
        "from transformers import AutoModelForCausalLM, AutoTokenizer\n",
        "import torch"
      ]
    },
    {
      "cell_type": "code",
      "execution_count": null,
      "id": "690aab4d-5a69-4b3f-8ed9-6f3ad1585c0e",
      "metadata": {
        "colab": {
          "referenced_widgets": [
            "3c5070e407db42cea99e0b9baf2c0784"
          ]
        },
        "id": "690aab4d-5a69-4b3f-8ed9-6f3ad1585c0e",
        "outputId": "277e1189-eb0b-4aab-9a98-8336350e3b8c"
      },
      "outputs": [
        {
          "data": {
            "application/vnd.jupyter.widget-view+json": {
              "model_id": "3c5070e407db42cea99e0b9baf2c0784",
              "version_major": 2,
              "version_minor": 0
            },
            "text/plain": [
              "Loading checkpoint shards:   0%|          | 0/4 [00:00<?, ?it/s]"
            ]
          },
          "metadata": {},
          "output_type": "display_data"
        }
      ],
      "source": [
        "model_name = '/data/datasets/community/huggingface/Llama3-8b-instruct/'\n",
        "tokenizer = AutoTokenizer.from_pretrained(model_name)\n",
        "model = AutoModelForCausalLM.from_pretrained(model_name,torch_dtype = torch.float16, device_map = \"auto\")"
      ]
    },
    {
      "cell_type": "code",
      "execution_count": null,
      "id": "7e5f6c3f-fc5b-46e0-8159-50b479d3387b",
      "metadata": {
        "id": "7e5f6c3f-fc5b-46e0-8159-50b479d3387b"
      },
      "outputs": [],
      "source": [
        "class LLMChat:\n",
        "    def __init__(self, tokenizer, model):\n",
        "        self.tokenizer = tokenizer\n",
        "        self.model = model\n",
        "        self.history = []\n",
        "\n",
        "        # THE CRITICAL FIX: Both Llama 3 stop tokens\n",
        "        self.terminators = [\n",
        "            tokenizer.eos_token_id,  # <|end_of_text|> (128001)\n",
        "            tokenizer.convert_tokens_to_ids(\"<|eot_id|>\")  # <|eot_id|> (128009)\n",
        "        ]\n",
        "\n",
        "    def send(self, user_text, temperature=0.6, top_p=0.9):\n",
        "        # Add user message to history\n",
        "        self.history.append({\"role\": \"user\", \"content\": user_text.strip()})\n",
        "\n",
        "        # Build messages with system prompt\n",
        "        messages = [{\"role\": \"system\", \"content\": \"You are a helpful assistant.\"}]\n",
        "        messages.extend(self.history)\n",
        "\n",
        "        # Use Llama 3's official chat template\n",
        "        input_ids = self.tokenizer.apply_chat_template(\n",
        "            messages,\n",
        "            add_generation_prompt=True,  # Critical for proper response\n",
        "            return_tensors=\"pt\"\n",
        "        ).to(self.model.device)\n",
        "\n",
        "        # Generate with BOTH stop tokens - this prevents self-conversation\n",
        "        outputs = self.model.generate(\n",
        "            input_ids,\n",
        "            max_new_tokens=2000,\n",
        "            eos_token_id=self.terminators,  # THE KEY FIX\n",
        "            pad_token_id=self.tokenizer.eos_token_id,\n",
        "            do_sample=True,\n",
        "            temperature=temperature,\n",
        "            top_p=top_p,\n",
        "            repetition_penalty=1.1\n",
        "        )\n",
        "\n",
        "        # Extract only the new response tokens\n",
        "        response_tokens = outputs[0][input_ids.shape[-1]:]\n",
        "        response = self.tokenizer.decode(response_tokens, skip_special_tokens=True).strip()\n",
        "\n",
        "        # Add assistant response to history\n",
        "        if response:\n",
        "            self.history.append({\"role\": \"assistant\", \"content\": response})\n",
        "\n",
        "        return response\n",
        "\n",
        "    def clear_history(self):\n",
        "        self.history = []"
      ]
    },
    {
      "cell_type": "code",
      "execution_count": null,
      "id": "ec064f1a-1804-4fc0-a6da-3716537a3aa0",
      "metadata": {
        "id": "ec064f1a-1804-4fc0-a6da-3716537a3aa0"
      },
      "outputs": [],
      "source": [
        "# Initialize your chat instance\n",
        "chat = LLMChat(tokenizer, model)\n",
        "\n",
        "def chat_fn(message, history, temperature, top_p):\n",
        "    \"\"\"Process chat message and return updated history\"\"\"\n",
        "    # Get response from LLMChat\n",
        "    response = chat.send(message)\n",
        "\n",
        "    # Update gradio history format\n",
        "    history.append([message, response])\n",
        "    return history, \"\"\n",
        "\n",
        "def clear_chat():\n",
        "    \"\"\"Clear chat history\"\"\"\n",
        "    chat.clear_history()\n",
        "    return []"
      ]
    },
    {
      "cell_type": "markdown",
      "id": "1f625337",
      "metadata": {
        "id": "1f625337"
      },
      "source": [
        "# Agentic RAG with Local Ollama Model\n",
        "This notebook demonstrates how to build a Retrieval-Augmented Generation (RAG) agent using LangGraph, LangChain, and a local  model run via Ollama.\n",
        "\n",
        "Adapted from: https://langchain-ai.github.io/langgraph/tutorials/rag/langgraph_agentic_rag/\n",
        "\n",
        "## Materials\n",
        "This notebook and all materials referenced here can be found on Sol `/data/sse/ai-accelerated-spark`."
      ]
    },
    {
      "cell_type": "markdown",
      "id": "9dbc8378-b454-48d8-a95c-563521334562",
      "metadata": {
        "id": "9dbc8378-b454-48d8-a95c-563521334562"
      },
      "source": [
        "## 1. Import libraries"
      ]
    },
    {
      "cell_type": "code",
      "execution_count": null,
      "id": "13cfaace",
      "metadata": {
        "id": "13cfaace"
      },
      "outputs": [],
      "source": [
        "from langchain_core.prompts import PromptTemplate\n",
        "from langchain_core.messages import HumanMessage, AIMessage, BaseMessage\n",
        "from langchain_core.tools import Tool\n",
        "from langgraph.graph import Graph\n",
        "from langchain.text_splitter import CharacterTextSplitter\n",
        "from sentence_transformers import SentenceTransformer\n",
        "from transformers import pipeline\n",
        "import torch\n",
        "from typing import List\n",
        "from pydantic import BaseModel, Field\n",
        "import os\n",
        "\n",
        "os.environ[\"USER_AGENT\"] = \"Mozilla/5.0 (X11; Ubuntu; Linux x86_64; rv:109.0) Gecko/20100101 Firefox/109.0\""
      ]
    },
    {
      "cell_type": "markdown",
      "id": "59114acf",
      "metadata": {
        "id": "59114acf"
      },
      "source": [
        "## 2. Preprocess documents\n",
        "### 2.1. Fetch documents"
      ]
    },
    {
      "cell_type": "code",
      "execution_count": null,
      "id": "24bf7599",
      "metadata": {
        "id": "24bf7599"
      },
      "outputs": [],
      "source": [
        "from langchain_community.document_loaders import WebBaseLoader\n",
        "\n",
        "urls = [\n",
        "    \"https://medium.com/rapids-ai\",\n",
        "    \"https://medium.com/cupy-team/announcing-cupy-v13-66979ee7fab0\",\n",
        "    \"https://www.unum.cloud/blog/2022-01-26-cupy\",\n",
        "    \"https://docs.nvidia.com/cuda/\"\n",
        "]\n",
        "\n",
        "docs = [WebBaseLoader(url).load() for url in urls]"
      ]
    },
    {
      "cell_type": "code",
      "execution_count": null,
      "id": "4d6bc96c-c2c6-4ca8-af17-1a0dc06d46cd",
      "metadata": {
        "id": "4d6bc96c-c2c6-4ca8-af17-1a0dc06d46cd",
        "outputId": "bd4cbead-8f02-402b-9542-e26b9cf460a7"
      },
      "outputs": [
        {
          "data": {
            "text/plain": [
              "'RAPIDS AI - MediumHomepageOpen in appSign inGet startedRAPIDS AIRAPIDS is a suite of software libraries for executing end-to-end data science & analytics pipelines entirely on GPUs.RAPIDS ReleasesDataFramesMachine LearningData VisualizationGraph AnalyticsNLPLearn MoreFollowRAPIDS 24.08: Better scalability, performance, and CPU/GPU interoperabilityRAPIDS 24.08: Better scalability, performance, and CPU/GPU interoperabilityRAPIDS 24.08 is now available with significant updates geared towards processing larger workloads and seamless CPU/GPU interoperability.Manas SinghAug 27, 2024RAPIDS 24.04 ReleaseRAPIDS 24.04\\xa0ReleaseExpanded accelerated vector search and zero-code change data science, Dask query planning, and support for Python 3.11 and pandas\\xa02Nick BeckerApr 24, 2024RAPIDS 24.02 releaseRAPIDS 24.02\\xa0releaseZero code-change NetworkX, RAPIDS on Databricks with Dask, and\\xa0more!Alex RavenelFeb 22, 2024RAPIDS 23.10 ReleaseRAPIDS 23.10\\xa0ReleaseRAPIDS Goes CPU/GPU (zero code change!), XGBoost 2.'"
            ]
          },
          "execution_count": 7,
          "metadata": {},
          "output_type": "execute_result"
        }
      ],
      "source": [
        "docs[0][0].page_content.strip()[:1000]"
      ]
    },
    {
      "cell_type": "markdown",
      "id": "b6dcb754-10f3-4a16-b522-c1ec4cbd812b",
      "metadata": {
        "id": "b6dcb754-10f3-4a16-b522-c1ec4cbd812b"
      },
      "source": [
        "### 2.2. Split the fetched documents into smaller chunks for indexing into the vectorstore"
      ]
    },
    {
      "cell_type": "code",
      "execution_count": null,
      "id": "97649da8-f2bc-49fd-be94-009b59a1a5e5",
      "metadata": {
        "id": "97649da8-f2bc-49fd-be94-009b59a1a5e5"
      },
      "outputs": [],
      "source": [
        "from langchain_text_splitters import RecursiveCharacterTextSplitter\n",
        "\n",
        "docs_list = [item for sublist in docs for item in sublist]\n",
        "\n",
        "text_splitter = RecursiveCharacterTextSplitter.from_tiktoken_encoder(\n",
        "    chunk_size=100, chunk_overlap=50\n",
        ")\n",
        "doc_splits = text_splitter.split_documents(docs_list)"
      ]
    },
    {
      "cell_type": "code",
      "execution_count": null,
      "id": "15cad859-5123-4811-b53a-a58ee9be9232",
      "metadata": {
        "id": "15cad859-5123-4811-b53a-a58ee9be9232",
        "outputId": "7f133165-89d8-49f4-daca-8372cb51bdd1"
      },
      "outputs": [
        {
          "data": {
            "text/plain": [
              "'RAPIDS AI - MediumHomepageOpen in appSign inGet startedRAPIDS AIRAPIDS is a suite of software libraries for executing end-to-end data science & analytics pipelines entirely on GPUs.RAPIDS ReleasesDataFramesMachine LearningData VisualizationGraph AnalyticsNLPLearn MoreFollowRAPIDS 24.08: Better scalability, performance, and CPU/GPU interoperabilityRAPIDS 24.08: Better scalability, performance, and CPU/GPU'"
            ]
          },
          "execution_count": 9,
          "metadata": {},
          "output_type": "execute_result"
        }
      ],
      "source": [
        "doc_splits[0].page_content"
      ]
    },
    {
      "cell_type": "markdown",
      "id": "5dbf0613",
      "metadata": {
        "id": "5dbf0613"
      },
      "source": [
        "## 3.Create a retriever tool\n",
        "### 3.1. Use an in-memory vector store and all-MiniLM-L6-V2 embeddings model"
      ]
    },
    {
      "cell_type": "code",
      "execution_count": null,
      "id": "d72e509c-47b7-4cc8-912d-e62cafc09f90",
      "metadata": {
        "colab": {
          "referenced_widgets": [
            "3d4a297468f94b8990f83b275e625a0f"
          ]
        },
        "id": "d72e509c-47b7-4cc8-912d-e62cafc09f90",
        "outputId": "ca68bae5-4ad2-45aa-80fe-678ace368d6e"
      },
      "outputs": [
        {
          "data": {
            "application/vnd.jupyter.widget-view+json": {
              "model_id": "3d4a297468f94b8990f83b275e625a0f",
              "version_major": 2,
              "version_minor": 0
            },
            "text/plain": [
              "Loading checkpoint shards:   0%|          | 0/4 [00:00<?, ?it/s]"
            ]
          },
          "metadata": {},
          "output_type": "display_data"
        }
      ],
      "source": [
        "import torch\n",
        "from transformers import AutoTokenizer, AutoModel\n",
        "import numpy as np\n",
        "\n",
        "class LlamaEmbeddings:\n",
        "    def __init__(self, model_path):\n",
        "        self.tokenizer = AutoTokenizer.from_pretrained(model_path)\n",
        "        self.model = AutoModel.from_pretrained(\n",
        "            model_path,\n",
        "            torch_dtype=torch.float16,  # Use half precision to save memory\n",
        "            device_map=\"auto\"\n",
        "        )\n",
        "\n",
        "        # Add padding token if it doesn't exist\n",
        "        if self.tokenizer.pad_token is None:\n",
        "            self.tokenizer.pad_token = self.tokenizer.eos_token\n",
        "\n",
        "    def embed_documents(self, texts):\n",
        "        embeddings = []\n",
        "        for text in texts:\n",
        "            # Tokenize\n",
        "            inputs = self.tokenizer(\n",
        "                text,\n",
        "                return_tensors=\"pt\",\n",
        "                truncation=True,\n",
        "                padding=True,\n",
        "                max_length=512\n",
        "            )\n",
        "\n",
        "            # Get hidden states\n",
        "            with torch.no_grad():\n",
        "                outputs = self.model(**inputs)\n",
        "                # Use mean pooling of last hidden state\n",
        "                hidden_states = outputs.last_hidden_state\n",
        "                attention_mask = inputs['attention_mask']\n",
        "\n",
        "                # Mean pooling\n",
        "                embeddings_tensor = (hidden_states * attention_mask.unsqueeze(-1)).sum(1) / attention_mask.sum(-1).unsqueeze(-1)\n",
        "                embeddings.append(embeddings_tensor.cpu().numpy())\n",
        "\n",
        "        return np.vstack(embeddings)\n",
        "\n",
        "    def embed_query(self, text):\n",
        "        return self.embed_documents([text])[0]\n",
        "\n",
        "# Usage with LangChain\n",
        "from langchain_core.embeddings import Embeddings\n",
        "\n",
        "class LangChainLlamaEmbeddings(Embeddings):\n",
        "    def __init__(self, model_path):\n",
        "        self.llama_embedder = LlamaEmbeddings(model_path)\n",
        "\n",
        "    def embed_documents(self, texts):\n",
        "        return self.llama_embedder.embed_documents(texts).tolist()\n",
        "\n",
        "    def embed_query(self, text):\n",
        "        return self.llama_embedder.embed_query(text).tolist()\n",
        "\n",
        "# Use it\n",
        "embedding_model = LangChainLlamaEmbeddings(\"/data/datasets/community/huggingface/Llama3-8b-instruct/\")"
      ]
    },
    {
      "cell_type": "code",
      "execution_count": null,
      "id": "f985362e-b14d-484a-a3f7-cfdafcbbd5f5",
      "metadata": {
        "id": "f985362e-b14d-484a-a3f7-cfdafcbbd5f5"
      },
      "outputs": [],
      "source": [
        "from sentence_transformers import SentenceTransformer\n",
        "import torch\n",
        "\n",
        "# This approach tries to adapt the model\n",
        "class LlamaSentenceTransformer:\n",
        "    def __init__(self, model_path):\n",
        "        # Load as base transformer model\n",
        "        from transformers import AutoModel, AutoTokenizer\n",
        "        self.tokenizer = AutoTokenizer.from_pretrained(model_path)\n",
        "        self.model = AutoModel.from_pretrained(\n",
        "            model_path,\n",
        "            torch_dtype=torch.float16,\n",
        "            device_map=\"auto\"\n",
        "        )\n",
        "\n",
        "        if self.tokenizer.pad_token is None:\n",
        "            self.tokenizer.pad_token = self.tokenizer.eos_token\n",
        "\n",
        "    def encode(self, sentences, convert_to_tensor=False):\n",
        "        if isinstance(sentences, str):\n",
        "            sentences = [sentences]\n",
        "\n",
        "        embeddings = []\n",
        "        for sentence in sentences:\n",
        "            inputs = self.tokenizer(\n",
        "                sentence,\n",
        "                return_tensors=\"pt\",\n",
        "                truncation=True,\n",
        "                padding=True,\n",
        "                max_length=512\n",
        "            )\n",
        "\n",
        "            with torch.no_grad():\n",
        "                outputs = self.model(**inputs)\n",
        "                # Mean pooling\n",
        "                attention_mask = inputs['attention_mask']\n",
        "                token_embeddings = outputs.last_hidden_state\n",
        "                input_mask_expanded = attention_mask.unsqueeze(-1).expand(token_embeddings.size()).float()\n",
        "                embeddings.append(torch.sum(token_embeddings * input_mask_expanded, 1) / torch.clamp(input_mask_expanded.sum(1), min=1e-9))\n",
        "\n",
        "        result = torch.cat(embeddings, dim=0)\n",
        "        if convert_to_tensor:\n",
        "            return result\n",
        "        return result.cpu().numpy()"
      ]
    },
    {
      "cell_type": "code",
      "execution_count": null,
      "id": "64d01351-ab57-442a-9b57-2b1a3ac796b8",
      "metadata": {
        "id": "64d01351-ab57-442a-9b57-2b1a3ac796b8"
      },
      "outputs": [],
      "source": [
        "from transformers import AutoTokenizer, AutoModel, BitsAndBytesConfig\n",
        "import torch\n",
        "\n",
        "# Use 4-bit quantization to reduce memory usage\n",
        "quantization_config = BitsAndBytesConfig(\n",
        "    load_in_4bit=True,\n",
        "    bnb_4bit_compute_dtype=torch.float16\n",
        ")\n",
        "\n",
        "class QuantizedLlamaEmbeddings:\n",
        "    def __init__(self, model_path):\n",
        "        self.tokenizer = AutoTokenizer.from_pretrained(model_path)\n",
        "        self.model = AutoModel.from_pretrained(\n",
        "            model_path,\n",
        "            quantization_config=quantization_config,\n",
        "            device_map=\"auto\"\n",
        "        )\n",
        "\n",
        "        if self.tokenizer.pad_token is None:\n",
        "            self.tokenizer.pad_token = self.tokenizer.eos_token\n",
        "\n",
        "    def get_embeddings(self, texts, batch_size=1):\n",
        "        all_embeddings = []\n",
        "\n",
        "        for i in range(0, len(texts), batch_size):\n",
        "            batch_texts = texts[i:i+batch_size]\n",
        "\n",
        "            inputs = self.tokenizer(\n",
        "                batch_texts,\n",
        "                return_tensors=\"pt\",\n",
        "                truncation=True,\n",
        "                padding=True,\n",
        "                max_length=512\n",
        "            )\n",
        "\n",
        "            with torch.no_grad():\n",
        "                outputs = self.model(**inputs)\n",
        "                # Mean pooling\n",
        "                embeddings = outputs.last_hidden_state.mean(dim=1)\n",
        "                all_embeddings.append(embeddings.cpu())\n",
        "\n",
        "        return torch.cat(all_embeddings, dim=0)"
      ]
    },
    {
      "cell_type": "code",
      "execution_count": null,
      "id": "812a77a3-ada9-4eaa-a4cf-ca56baf35460",
      "metadata": {
        "colab": {
          "referenced_widgets": [
            "64a844ebf5d941c39bcd5c6a373557fb"
          ]
        },
        "id": "812a77a3-ada9-4eaa-a4cf-ca56baf35460",
        "outputId": "be329cbd-1f82-4e56-dd82-802fc80a40a8"
      },
      "outputs": [
        {
          "data": {
            "application/vnd.jupyter.widget-view+json": {
              "model_id": "64a844ebf5d941c39bcd5c6a373557fb",
              "version_major": 2,
              "version_minor": 0
            },
            "text/plain": [
              "Loading checkpoint shards:   0%|          | 0/4 [00:00<?, ?it/s]"
            ]
          },
          "metadata": {},
          "output_type": "display_data"
        }
      ],
      "source": [
        "from langchain_core.vectorstores import InMemoryVectorStore\n",
        "\n",
        "# Create your custom embedding class\n",
        "embedding_model = LangChainLlamaEmbeddings(\"/data/datasets/community/huggingface/Llama3-8b-instruct/\")\n",
        "\n",
        "# Now use it normally\n",
        "vectorstore = InMemoryVectorStore.from_documents(\n",
        "    documents=doc_splits,\n",
        "    embedding=embedding_model\n",
        ")\n",
        "retriever = vectorstore.as_retriever()"
      ]
    },
    {
      "cell_type": "code",
      "execution_count": null,
      "id": "abcb57e5-dcb5-4387-8327-5756c2df4962",
      "metadata": {
        "id": "abcb57e5-dcb5-4387-8327-5756c2df4962"
      },
      "outputs": [],
      "source": [
        "# TODO: Use ChromaDB for persistent vectorstore\n",
        "# https://python.langchain.com/docs/integrations/vectorstores/"
      ]
    },
    {
      "cell_type": "markdown",
      "id": "4f517c44-2e14-4614-9290-8d75e7faef4f",
      "metadata": {
        "id": "4f517c44-2e14-4614-9290-8d75e7faef4f"
      },
      "source": [
        "### 3.2. Create a retriever tool using LangChain's prebuild `create_retriever_tool`"
      ]
    },
    {
      "cell_type": "code",
      "execution_count": null,
      "id": "e5278231-c5eb-40ca-94f5-8a74d99a1b88",
      "metadata": {
        "id": "e5278231-c5eb-40ca-94f5-8a74d99a1b88"
      },
      "outputs": [],
      "source": [
        "from langchain.tools.retriever import create_retriever_tool\n",
        "\n",
        "retriever_tool = create_retriever_tool(\n",
        "    retriever,\n",
        "    \"retrieve_python_gpu_acceleration\",\n",
        "    \"Search and return information about accelerating Python code using the GPU with RAPIDS and CuPy.\",\n",
        ")"
      ]
    },
    {
      "cell_type": "markdown",
      "id": "e7fcbee6-e9d6-466f-9c7a-303ca012b469",
      "metadata": {
        "id": "e7fcbee6-e9d6-466f-9c7a-303ca012b469"
      },
      "source": [
        "### 3.3. Test the tool"
      ]
    },
    {
      "cell_type": "code",
      "execution_count": null,
      "id": "2ba4b915-9cfc-4e71-9ea2-6060cde12d50",
      "metadata": {
        "id": "2ba4b915-9cfc-4e71-9ea2-6060cde12d50",
        "outputId": "3bbe2e94-38c4-423b-8473-c754deb93120"
      },
      "outputs": [
        {
          "data": {
            "text/plain": [
              "'None), slice(None, None))],}# The array is allocated in devices 0 and 1multi_gpu_array = distributed_array(cpu_array, mapping)The work has been done by @shino16 during the Preferred Networks 2023 summer internship.Upgrading from CuPy v12 or earlierAs always, we have prepared the Upgrade Guide, which lists the changes that may break your code when migrating between major releases. Especially note that the minimum requirement for CuPy is now\\n\\nis a library developed by the NVIDIA RAPIDS project that provides GPU-accelerated implementation of signal processing algorithms using CuPy as its backend. cuSignal includes scipy.signal compatible APIs, so we shared the same goals. After a discussion with the cuSignal team, we agreed to merge cuSignal into CuPy to provide users a better experience with a unified library for SciPy routines on GPU. We would like to acknowledge and thank Adam Thompson and everyone involved in\\n\\nAfter a discussion with the cuSignal team, we agreed to merge cuSignal into CuPy to provide users a better experience with a unified library for SciPy routines on GPU. We would like to acknowledge and thank Adam Thompson and everyone involved in the development for creating this great library and agreeing to this transition.Import CuPy without CUDAEssentially, CuPy is tightly coupled with underlying GPU toolkits such as NVIDIA CUDA and AMD ROCm. For a long time,\\n\\ntime, CuPy’s installation assumed the toolkit to be installed locally — if not, import cupy has yielded an ImportError. This has been a problem in some scenarios, such as NumPy-based projects with optional GPU support via CuPy. In CuPy v13, all CUDA Toolkit libraries are lazily-loaded, making import cupy to success even when CUDA is not installed.More NumPy & SciPy-compatible APIsIn addition to the signal processing'"
            ]
          },
          "execution_count": 17,
          "metadata": {},
          "output_type": "execute_result"
        }
      ],
      "source": [
        "retriever_tool.invoke({\"query\": \"How can I create a CuPy-backed Dask array for random data?\"})"
      ]
    },
    {
      "cell_type": "markdown",
      "id": "29127ddb-5909-4809-8525-3204ef2d08cf",
      "metadata": {
        "id": "29127ddb-5909-4809-8525-3204ef2d08cf"
      },
      "source": [
        "## 4. Generate query\n",
        "### 4.1. Load local LLM\n",
        "\n",
        "Start ollama using the terminal:\n",
        "```bash\n",
        "module load ollama/0.9.0\n",
        "export OLLAMA_MODELS=/data/datasets/community/ollama\n",
        "ollama-start\n",
        "```\n",
        "\n",
        "Check the available list of models using `ollama list`. Let me know via Slack if you would like to use and test other models."
      ]
    },
    {
      "cell_type": "code",
      "execution_count": null,
      "id": "e4504022-deee-4190-b681-6dfa9ba5e758",
      "metadata": {
        "id": "e4504022-deee-4190-b681-6dfa9ba5e758"
      },
      "outputs": [],
      "source": [
        "from langchain_ollama import ChatOllama\n",
        "import socket\n",
        "from langchain_ollama.llms import OllamaLLM\n",
        "from langchain.chat_models import init_chat_model\n",
        "\n",
        "host_node = socket.gethostname()\n",
        "llm_model = init_chat_model(\"ollama:qwen3:14b\", temperature=0.6, base_url=f\"http://jgarc111@{host_node}:11434/\")"
      ]
    },
    {
      "cell_type": "markdown",
      "id": "972da38e-7439-4d43-8fc6-6aafcdf00069",
      "metadata": {
        "id": "972da38e-7439-4d43-8fc6-6aafcdf00069"
      },
      "source": [
        "### 4.2. Build a `generate_query_or_respond` node"
      ]
    },
    {
      "cell_type": "code",
      "execution_count": null,
      "id": "65ecc05d-868d-4228-bc67-bd8ed7b65a44",
      "metadata": {
        "id": "65ecc05d-868d-4228-bc67-bd8ed7b65a44"
      },
      "outputs": [],
      "source": [
        "from langgraph.graph import MessagesState\n",
        "import re\n",
        "\n",
        "def generate_query_or_respond(state: MessagesState):\n",
        "    \"\"\"Call the model to generate a response based on the current state. Given\n",
        "    the question, it will decide to retrieve using the retriever tool, or simply respond to the user.\n",
        "    \"\"\"\n",
        "    response = (\n",
        "        llm_model\n",
        "        .bind_tools([retriever_tool]).invoke(state[\"messages\"])\n",
        "    )\n",
        "    # remove thinking text\n",
        "    content = re.sub(r\"<think>.*</think>\", \"\", response.content, flags=re.DOTALL).strip()\n",
        "    response.content = content\n",
        "    return {\"messages\": [response]}"
      ]
    },
    {
      "cell_type": "markdown",
      "id": "e0091934-a78a-4a46-bdd6-24d62eae69ed",
      "metadata": {
        "id": "e0091934-a78a-4a46-bdd6-24d62eae69ed"
      },
      "source": [
        "### 4.3. Try a random input"
      ]
    },
    {
      "cell_type": "code",
      "execution_count": null,
      "id": "6fbc5702-ff03-4934-b664-3d6a8edca463",
      "metadata": {
        "id": "6fbc5702-ff03-4934-b664-3d6a8edca463",
        "outputId": "386debea-ec1c-48c6-936f-6000e95daeb5"
      },
      "outputs": [
        {
          "name": "stdout",
          "output_type": "stream",
          "text": [
            "==================================\u001b[1m Ai Message \u001b[0m==================================\n",
            "\n",
            "The color of the sky is typically blue during the day due to the scattering of sunlight by the Earth's atmosphere, a phenomenon known as Rayleigh scattering. However, the sky can appear different colors at various times of day (e.g., red/orange during sunrise/sunset) or under different weather conditions. \n",
            "\n",
            "Since your question is unrelated to GPU acceleration or Python libraries like RAPIDS/CuPy, I cannot use the provided tools to address it. Let me know if you'd like help with Python/GPU-related topics!\n"
          ]
        }
      ],
      "source": [
        "input = {\"messages\": [{\"role\": \"user\", \"content\": \"Hello! What is the color of the sky?\"}]}\n",
        "generate_query_or_respond(input)[\"messages\"][-1].pretty_print()"
      ]
    },
    {
      "cell_type": "markdown",
      "id": "e50e1018-8b5c-405e-ab80-2bfc79e9a7ab",
      "metadata": {
        "id": "e50e1018-8b5c-405e-ab80-2bfc79e9a7ab"
      },
      "source": [
        "### 4.4. Try semantic search question"
      ]
    },
    {
      "cell_type": "code",
      "execution_count": null,
      "id": "934dd1bc-fa2c-414c-80f9-cb94b93ffde3",
      "metadata": {
        "id": "934dd1bc-fa2c-414c-80f9-cb94b93ffde3",
        "outputId": "c5b49787-1586-43f1-b54d-ee20872b8976"
      },
      "outputs": [
        {
          "name": "stdout",
          "output_type": "stream",
          "text": [
            "==================================\u001b[1m Ai Message \u001b[0m==================================\n",
            "Tool Calls:\n",
            "  retrieve_python_gpu_acceleration (2ef686ce-26c7-471f-ae92-487415519d6e)\n",
            " Call ID: 2ef686ce-26c7-471f-ae92-487415519d6e\n",
            "  Args:\n",
            "    query: Creating CuPy-backed Dask arrays for random data\n"
          ]
        }
      ],
      "source": [
        "input = {\n",
        "    \"messages\": [\n",
        "        {\n",
        "            \"role\": \"user\",\n",
        "            \"content\": \"How can I create a CuPy-backed Dask array for random data?\",\n",
        "        }\n",
        "    ]\n",
        "}\n",
        "generate_query_or_respond(input)[\"messages\"][-1].pretty_print()"
      ]
    },
    {
      "cell_type": "markdown",
      "id": "eddaf2a9-6dac-4e24-a77d-2ee588ac6eed",
      "metadata": {
        "id": "eddaf2a9-6dac-4e24-a77d-2ee588ac6eed"
      },
      "source": [
        "## 5. Grade documents\n",
        "### 5.1. Add conditional edge `grade_documents` to determine the relevance of retrieved documents"
      ]
    },
    {
      "cell_type": "code",
      "execution_count": null,
      "id": "a6294ac9-5927-4f26-ac89-046829bcdfba",
      "metadata": {
        "id": "a6294ac9-5927-4f26-ac89-046829bcdfba"
      },
      "outputs": [],
      "source": [
        "from pydantic import BaseModel, Field\n",
        "from typing import Literal\n",
        "\n",
        "GRADE_PROMPT = (\n",
        "    \"You are a grader assessing relevance of a retrieved document to a user question. \\n \"\n",
        "    \"Here is the retrieved document: \\n\\n {context} \\n\\n\"\n",
        "    \"Here is the user question: {question} \\n\"\n",
        "    \"If the document contains keyword(s) or semantic meaning related to the user question, grade it as relevant. \\n\"\n",
        "    \"Give a binary score 'yes' or 'no' score to indicate whether the document is relevant to the question.\"\n",
        ")\n",
        "\n",
        "class GradeDocuments(BaseModel):\n",
        "    \"\"\"Grade documents using a binary score for relevance check.\"\"\"\n",
        "\n",
        "    binary_score: str = Field(\n",
        "        description=\"Relevance score: 'yes' if relevant, or 'no' if not relevant\"\n",
        "    )\n",
        "\n",
        "\n",
        "def grade_documents(\n",
        "    state: MessagesState,\n",
        ") -> Literal[\"generate_answer\", \"rewrite_question\"]:\n",
        "    \"\"\"Determine whether the retrieved documents are relevant to the question.\"\"\"\n",
        "    question = state[\"messages\"][0].content\n",
        "    context = state[\"messages\"][-1].content\n",
        "\n",
        "\n",
        "    prompt = GRADE_PROMPT.format(question=question, context=context)\n",
        "    response = (\n",
        "        llm_model\n",
        "        .with_structured_output(GradeDocuments).invoke(\n",
        "            [{\"role\": \"user\", \"content\": prompt}]\n",
        "        )\n",
        "    )\n",
        "    score = response.binary_score\n",
        "\n",
        "    if score == \"yes\":\n",
        "        return \"generate_answer\"\n",
        "    else:\n",
        "        return \"rewrite_question\""
      ]
    },
    {
      "cell_type": "markdown",
      "id": "5a918ef9-e933-4f0c-83ce-75d02585a241",
      "metadata": {
        "id": "5a918ef9-e933-4f0c-83ce-75d02585a241"
      },
      "source": [
        "### 5.2. Try with irrelevant documents in the tool response"
      ]
    },
    {
      "cell_type": "code",
      "execution_count": null,
      "id": "00be481b-9484-40db-98c5-f227129cafd9",
      "metadata": {
        "id": "00be481b-9484-40db-98c5-f227129cafd9",
        "outputId": "6c71740e-bd74-45d3-a266-a7bcecea40a6"
      },
      "outputs": [
        {
          "data": {
            "text/plain": [
              "'rewrite_question'"
            ]
          },
          "execution_count": 23,
          "metadata": {},
          "output_type": "execute_result"
        }
      ],
      "source": [
        "from langchain_core.messages import convert_to_messages\n",
        "\n",
        "input = {\n",
        "    \"messages\": convert_to_messages(\n",
        "        [\n",
        "            {\n",
        "                \"role\": \"user\",\n",
        "                \"content\": \"How can I create a CuPy-backed Dask array for random data?\",\n",
        "            },\n",
        "            {\n",
        "                \"role\": \"assistant\",\n",
        "                \"content\": \"\",\n",
        "                \"tool_calls\": [\n",
        "                    {\n",
        "                        \"id\": \"1\",\n",
        "                        \"name\": \"retrieve_python_gpu_acceleration\",\n",
        "                        \"args\": {\"query\": \"creating CuPy-backed Dask arrays for random data\"},\n",
        "                    }\n",
        "                ],\n",
        "            },\n",
        "            {\"role\": \"tool\", \"content\": \"meow\", \"tool_call_id\": \"1\"},\n",
        "        ]\n",
        "    )\n",
        "}\n",
        "grade_documents(input)"
      ]
    },
    {
      "cell_type": "markdown",
      "id": "fdf4e35d-63e6-4658-9ade-c6e835c6e39e",
      "metadata": {
        "id": "fdf4e35d-63e6-4658-9ade-c6e835c6e39e"
      },
      "source": [
        "### 5.3. Try with relevant documents"
      ]
    },
    {
      "cell_type": "code",
      "execution_count": null,
      "id": "0d7119fa-55d5-4179-8bcc-661a68e100b7",
      "metadata": {
        "id": "0d7119fa-55d5-4179-8bcc-661a68e100b7",
        "outputId": "528cecb4-5a6c-4cf2-b02f-5bbb801e4d0b"
      },
      "outputs": [
        {
          "data": {
            "text/plain": [
              "'generate_answer'"
            ]
          },
          "execution_count": 24,
          "metadata": {},
          "output_type": "execute_result"
        }
      ],
      "source": [
        "input = {\n",
        "    \"messages\": convert_to_messages(\n",
        "        [\n",
        "            {\n",
        "                \"role\": \"user\",\n",
        "                \"content\": \"How can I create a CuPy-backed Dask array for random data?\",\n",
        "            },\n",
        "            {\n",
        "                \"role\": \"assistant\",\n",
        "                \"content\": \"\",\n",
        "                \"tool_calls\": [\n",
        "                    {\n",
        "                        \"id\": \"1\",\n",
        "                        \"name\": \"retrieve_python_gpu_acceleration\",\n",
        "                        \"args\": {\"query\": \"creating CuPy-backed Dask arrays for random data\"},\n",
        "                    }\n",
        "                ],\n",
        "            },\n",
        "            {\n",
        "                \"role\": \"tool\",\n",
        "                \"content\": 'Now, we can leverage the array.backend configuration to create a CuPy-backed Dask array for random data:>>> with dask.config.set({“array.backend”: “cupy”}):…    darr = da.random.randint(0, 3, size=(10, 20), chunks=(2, 5)) #\\n\\n= rs.randint(0, 3, size=(10, 20), chunks=(2, 5))>>> darrdask.array<randint, shape=(10, 20), dtype=int64, chunksize=(2, 5), \\\\chunktype=cupy.ndarray>Now, we can leverage the array.backend configuration to create a CuPy-backed Dask array for random data:>>> with\\n\\nfor random array creation.',\n",
        "                \"tool_call_id\": \"1\",\n",
        "            },\n",
        "        ]\n",
        "    )\n",
        "}\n",
        "grade_documents(input)"
      ]
    },
    {
      "cell_type": "markdown",
      "id": "d6520541-4db0-4db2-839d-66d74494644b",
      "metadata": {
        "id": "d6520541-4db0-4db2-839d-66d74494644b"
      },
      "source": [
        "## 6.\n",
        "### 6.1"
      ]
    },
    {
      "cell_type": "code",
      "execution_count": null,
      "id": "199cb600-4cad-4e9a-80fc-93746877b3b7",
      "metadata": {
        "id": "199cb600-4cad-4e9a-80fc-93746877b3b7"
      },
      "outputs": [],
      "source": [
        "REWRITE_PROMPT = (\n",
        "    \"Look at the input and try to reason about the underlying semantic intent / meaning.\\n\"\n",
        "    \"Here is the initial question:\"\n",
        "    \"\\n ------- \\n\"\n",
        "    \"{question}\"\n",
        "    \"\\n ------- \\n\"\n",
        "    \"Formulate an improved question:\"\n",
        ")\n",
        "\n",
        "\n",
        "def rewrite_question(state: MessagesState):\n",
        "    \"\"\"Rewrite the original user question.\"\"\"\n",
        "    messages = state[\"messages\"]\n",
        "    question = messages[0].content\n",
        "    prompt = REWRITE_PROMPT.format(question=question)\n",
        "    response = llm_model.invoke([{\"role\": \"user\", \"content\": prompt}])\n",
        "    # remove thinking text\n",
        "    content = re.sub(r\"<think>.*</think>\", \"\", response.content, flags=re.DOTALL).strip()\n",
        "    response.content = content\n",
        "    return {\"messages\": [{\"role\": \"user\", \"content\": response.content}]}"
      ]
    },
    {
      "cell_type": "markdown",
      "id": "f025fedf-4e70-443f-acae-c384b7163d8f",
      "metadata": {
        "id": "f025fedf-4e70-443f-acae-c384b7163d8f"
      },
      "source": [
        "### 6.2 Test"
      ]
    },
    {
      "cell_type": "code",
      "execution_count": null,
      "id": "114f4730-0d74-4172-aaf8-9dc8c55a60a3",
      "metadata": {
        "id": "114f4730-0d74-4172-aaf8-9dc8c55a60a3",
        "outputId": "99992419-9f57-4b80-d5ba-0dac8b3c9962"
      },
      "outputs": [
        {
          "name": "stdout",
          "output_type": "stream",
          "text": [
            "**Improved Question:**  \n",
            "How can I generate a Dask array backed by CuPy that contains random data (e.g., uniformly distributed or normally distributed values), and what are the key considerations for ensuring compatibility between Dask and CuPy in this context?  \n",
            "\n",
            "**Reasoning:**  \n",
            "The improved question clarifies the intent to generate random data (specifying potential distributions) and explicitly asks about compatibility considerations, which are critical for ensuring the solution works correctly with both Dask and CuPy. It also avoids ambiguity by framing the request as a technical implementation task rather than a vague \"how-to\" question.\n"
          ]
        }
      ],
      "source": [
        "input = {\n",
        "    \"messages\": convert_to_messages(\n",
        "        [\n",
        "            {\n",
        "                \"role\": \"user\",\n",
        "                \"content\": \"How can I create a CuPy-backed Dask array for random data?\",\n",
        "            },\n",
        "            {\n",
        "                \"role\": \"assistant\",\n",
        "                \"content\": \"\",\n",
        "                \"tool_calls\": [\n",
        "                    {\n",
        "                        \"id\": \"1\",\n",
        "                        \"name\": \"retrieve_python_gpu_acceleration\",\n",
        "                        \"args\": {\"query\": \"creating CuPy-backed Dask arrays for random data\"},\n",
        "                    }\n",
        "                ],\n",
        "            },\n",
        "            {\"role\": \"tool\", \"content\": \"meow\", \"tool_call_id\": \"1\"},\n",
        "        ]\n",
        "    )\n",
        "}\n",
        "\n",
        "response = rewrite_question(input)\n",
        "print(response[\"messages\"][-1][\"content\"])"
      ]
    },
    {
      "cell_type": "markdown",
      "id": "20a0771d-200e-4a1c-9da3-e8a4e82fb480",
      "metadata": {
        "id": "20a0771d-200e-4a1c-9da3-e8a4e82fb480"
      },
      "source": [
        "## 7. Generate an answer\n",
        "### 7.1. Build `generate_answer` node"
      ]
    },
    {
      "cell_type": "code",
      "execution_count": null,
      "id": "f3472875-cfd6-4b3f-8b39-7a1139bd7ce7",
      "metadata": {
        "id": "f3472875-cfd6-4b3f-8b39-7a1139bd7ce7"
      },
      "outputs": [],
      "source": [
        "GENERATE_PROMPT = (\n",
        "    \"You are an assistant for question-answering tasks. \"\n",
        "    \"Use the following pieces of retrieved context to answer the question. \"\n",
        "    \"If you don't know the answer, just say that you don't know. \"\n",
        "    \"Use three sentences maximum and keep the answer concise.\\n\"\n",
        "    \"Question: {question} \\n\"\n",
        "    \"Context: {context}\"\n",
        ")\n",
        "\n",
        "\n",
        "def generate_answer(state: MessagesState):\n",
        "    \"\"\"Generate an answer.\"\"\"\n",
        "    question = state[\"messages\"][0].content\n",
        "    context = state[\"messages\"][-1].content\n",
        "    prompt = GENERATE_PROMPT.format(question=question, context=context)\n",
        "    response = llm_model.invoke([{\"role\": \"user\", \"content\": prompt}])\n",
        "    # remove thinking text\n",
        "    content = re.sub(r\"<think>.*</think>\", \"\", response.content, flags=re.DOTALL).strip()\n",
        "    response.content = content\n",
        "    return {\"messages\": [response]}"
      ]
    },
    {
      "cell_type": "markdown",
      "id": "38cd1250-820e-40f8-ad58-c85bca8e2c2e",
      "metadata": {
        "id": "38cd1250-820e-40f8-ad58-c85bca8e2c2e"
      },
      "source": [
        "## 7.2 Test"
      ]
    },
    {
      "cell_type": "code",
      "execution_count": null,
      "id": "76d74558-2403-4c2c-a50c-944cd63dc501",
      "metadata": {
        "id": "76d74558-2403-4c2c-a50c-944cd63dc501",
        "outputId": "f90b6d23-2d39-49bb-d3c8-a10284dc1b4b"
      },
      "outputs": [
        {
          "name": "stdout",
          "output_type": "stream",
          "text": [
            "==================================\u001b[1m Ai Message \u001b[0m==================================\n",
            "\n",
            "To create a CuPy-backed Dask array for random data, set the `array.backend` configuration to `\"cupy\"` using `dask.config.set`. Then, use `da.random.randint` (or similar functions) to generate the array, specifying the desired shape, data type, and chunk sizes. This ensures the array is backed by CuPy for GPU acceleration.\n"
          ]
        }
      ],
      "source": [
        "input = {\n",
        "    \"messages\": convert_to_messages(\n",
        "        [\n",
        "            {\n",
        "                \"role\": \"user\",\n",
        "                \"content\": \"How can I create a CuPy-backed Dask array for random data?\",\n",
        "            },\n",
        "            {\n",
        "                \"role\": \"assistant\",\n",
        "                \"content\": \"\",\n",
        "                \"tool_calls\": [\n",
        "                    {\n",
        "                        \"id\": \"1\",\n",
        "                        \"name\": \"retrieve_python_gpu_acceleration\",\n",
        "                        \"args\": {\"query\": \"creating CuPy-backed Dask arrays for random data\"},\n",
        "                    }\n",
        "                ],\n",
        "            },\n",
        "            {\n",
        "                \"role\": \"tool\",\n",
        "                \"content\": 'Now, we can leverage the array.backend configuration to create a CuPy-backed Dask array for random data:>>> with dask.config.set({“array.backend”: “cupy”}):…    darr = da.random.randint(0, 3, size=(10, 20), chunks=(2, 5)) #\\n\\n= rs.randint(0, 3, size=(10, 20), chunks=(2, 5))>>> darrdask.array<randint, shape=(10, 20), dtype=int64, chunksize=(2, 5), \\\\chunktype=cupy.ndarray>Now, we can leverage the array.backend configuration to create a CuPy-backed Dask array for random data:>>> with\\n\\nfor random array creation.',\n",
        "                \"tool_call_id\": \"1\",\n",
        "            },\n",
        "        ]\n",
        "    )\n",
        "}\n",
        "\n",
        "response = generate_answer(input)\n",
        "response[\"messages\"][-1].pretty_print()"
      ]
    },
    {
      "cell_type": "markdown",
      "id": "beb5fc5f-b09c-42b1-88d9-f2b6784b2eda",
      "metadata": {
        "id": "beb5fc5f-b09c-42b1-88d9-f2b6784b2eda"
      },
      "source": [
        "## 8. Assemble the graph"
      ]
    },
    {
      "cell_type": "code",
      "execution_count": null,
      "id": "49bf2038-5fa5-4e22-a208-4b1167e1cede",
      "metadata": {
        "id": "49bf2038-5fa5-4e22-a208-4b1167e1cede"
      },
      "outputs": [],
      "source": [
        "from langgraph.graph import StateGraph, START, END\n",
        "from langgraph.prebuilt import ToolNode\n",
        "from langgraph.prebuilt import tools_condition\n",
        "\n",
        "workflow = StateGraph(MessagesState)\n",
        "\n",
        "# Define the nodes we will cycle between\n",
        "workflow.add_node(generate_query_or_respond)\n",
        "workflow.add_node(\"retrieve\", ToolNode([retriever_tool]))\n",
        "workflow.add_node(rewrite_question)\n",
        "workflow.add_node(generate_answer)\n",
        "\n",
        "workflow.add_edge(START, \"generate_query_or_respond\")\n",
        "\n",
        "# Decide whether to retrieve\n",
        "workflow.add_conditional_edges(\n",
        "    \"generate_query_or_respond\",\n",
        "    # Assess LLM decision (call `retriever_tool` tool or respond to the user)\n",
        "    tools_condition,\n",
        "    {\n",
        "        # Translate the condition outputs to nodes in our graph\n",
        "        \"tools\": \"retrieve\",\n",
        "        END: END,\n",
        "    },\n",
        ")\n",
        "\n",
        "# Edges taken after the `action` node is called.\n",
        "workflow.add_conditional_edges(\n",
        "    \"retrieve\",\n",
        "    # Assess agent decision\n",
        "    grade_documents,\n",
        ")\n",
        "workflow.add_edge(\"generate_answer\", END)\n",
        "workflow.add_edge(\"rewrite_question\", \"generate_query_or_respond\")\n",
        "\n",
        "# Compile\n",
        "graph = workflow.compile()"
      ]
    },
    {
      "cell_type": "code",
      "execution_count": null,
      "id": "d44857e0-4ce3-4a02-ba3b-ade019288936",
      "metadata": {
        "id": "d44857e0-4ce3-4a02-ba3b-ade019288936",
        "outputId": "5791a797-199a-48c6-f2aa-6aeb15257cc0"
      },
      "outputs": [
        {
          "data": {
            "image/png": "[encoded data removed]",
            "text/plain": [
              "<IPython.core.display.Image object>"
            ]
          },
          "metadata": {},
          "output_type": "display_data"
        }
      ],
      "source": [
        "from IPython.display import Image, display\n",
        "\n",
        "display(Image(graph.get_graph().draw_mermaid_png()))"
      ]
    },
    {
      "cell_type": "markdown",
      "id": "17cc9c8a-4a28-49dc-ae10-ca7b8eb42e43",
      "metadata": {
        "id": "17cc9c8a-4a28-49dc-ae10-ca7b8eb42e43"
      },
      "source": [
        "## 9. Run the agentic RAG"
      ]
    },
    {
      "cell_type": "code",
      "execution_count": null,
      "id": "90d926a1-4f35-42ed-bd08-1027c975644b",
      "metadata": {
        "id": "90d926a1-4f35-42ed-bd08-1027c975644b",
        "outputId": "64b22063-f481-4830-cfd2-bf5b15c83aec"
      },
      "outputs": [
        {
          "name": "stdout",
          "output_type": "stream",
          "text": [
            "Update from node generate_query_or_respond\n",
            "\n",
            "\n",
            "\n",
            "Update from node retrieve\n",
            "\n",
            "\n",
            "\n",
            "Update from node rewrite_question\n",
            "\n",
            "\n",
            "\n",
            "Update from node generate_query_or_respond\n",
            "\n",
            "\n",
            "\n"
          ]
        }
      ],
      "source": [
        "for chunk in graph.stream(\n",
        "    {\n",
        "        \"messages\": [\n",
        "            {\n",
        "                \"role\": \"user\",\n",
        "                \"content\": \"How can I create a CuPy-backed Dask array for random data?\",\n",
        "            }\n",
        "        ]\n",
        "    }\n",
        "):\n",
        "    for node, update in chunk.items():\n",
        "        print(\"Update from node\", node)\n",
        "        update[\"messages\"][-1]\n",
        "        print(\"\\n\\n\")"
      ]
    },
    {
      "cell_type": "markdown",
      "source": [
        "## Naive Rag Chat Interface\n"
      ],
      "metadata": {
        "id": "n1e7a34_5zK0"
      },
      "id": "n1e7a34_5zK0"
    },
    {
      "cell_type": "code",
      "execution_count": null,
      "id": "4d135bb8-88ae-4cc1-9a5a-5ffde1232826",
      "metadata": {
        "id": "4d135bb8-88ae-4cc1-9a5a-5ffde1232826",
        "outputId": "11305c01-4fbe-42a6-822d-b0febe5411e9"
      },
      "outputs": [
        {
          "name": "stdout",
          "output_type": "stream",
          "text": [
            "* Running on local URL:  http://127.0.0.1:7860\n",
            "* Running on public URL: https://a7ea9700dce92e4ff9.gradio.live\n",
            "\n",
            "This share link expires in 1 week. For free permanent hosting and GPU upgrades, run `gradio deploy` from the terminal in the working directory to deploy to Hugging Face Spaces (https://huggingface.co/spaces)\n"
          ]
        },
        {
          "data": {
            "text/html": [
              "<div><iframe src=\"https://a7ea9700dce92e4ff9.gradio.live\" width=\"100%\" height=\"500\" allow=\"autoplay; camera; microphone; clipboard-read; clipboard-write;\" frameborder=\"0\" allowfullscreen></iframe></div>"
            ],
            "text/plain": [
              "<IPython.core.display.HTML object>"
            ]
          },
          "metadata": {},
          "output_type": "display_data"
        },
        {
          "data": {
            "text/plain": []
          },
          "execution_count": 33,
          "metadata": {},
          "output_type": "execute_result"
        }
      ],
      "source": [
        "import gradio as gr\n",
        "\n",
        "def ask_graph(user_input, chat_history):\n",
        "    result = graph.invoke({\n",
        "        \"messages\": [\n",
        "            {\"role\": \"user\", \"content\": user_input}\n",
        "        ]\n",
        "    })\n",
        "\n",
        "    response = result[\"messages\"][-1].content\n",
        "\n",
        "    if not chat_history:\n",
        "        response = [{\"role\": \"user\", \"content\": user_input}, {\"role\": \"assistant\", \"content\": response}]\n",
        "    else:\n",
        "        response = chat_history + [{\"role\": \"user\", \"content\": user_input}, {\"role\": \"assistant\", \"content\": response}]\n",
        "\n",
        "    return \"\", response\n",
        "\n",
        "def clear_conversation():\n",
        "    return \"\", \"\"\n",
        "\n",
        "with gr.Blocks(fill_height=True, fill_width=True) as demo:\n",
        "    gr.Markdown(\"### Agentic RAG\")\n",
        "\n",
        "    with gr.Column():\n",
        "\n",
        "        with gr.Row():\n",
        "            chatbot = gr.Chatbot(height=350, type=\"messages\")\n",
        "\n",
        "        with gr.Row():\n",
        "            with gr.Column(scale=4):\n",
        "                query_input = gr.Textbox(\n",
        "                    label=\"Enter text here\", placeholder=\"Ask something...\", lines=1\n",
        "                    )\n",
        "            with gr.Column(scale=1):\n",
        "                with gr.Row():\n",
        "                    submit_btn = gr.Button(\"⬆\")\n",
        "                # 🧹 Clear button\n",
        "                with gr.Row():\n",
        "                    clear_btn = gr.Button(\"🧹 Clear Conversation\")\n",
        "\n",
        "        submit_btn.click(\n",
        "            fn=ask_graph,\n",
        "            inputs=[query_input, chatbot],\n",
        "            outputs=[query_input, chatbot],\n",
        "        )\n",
        "\n",
        "        query_input.submit(\n",
        "            fn=ask_graph,\n",
        "            inputs=[query_input, chatbot],\n",
        "            outputs=[query_input, chatbot],\n",
        "        )\n",
        "\n",
        "        clear_btn.click(\n",
        "            fn=clear_conversation,\n",
        "            outputs=[query_input, chatbot],\n",
        "        )\n",
        "\n",
        "demo.launch(share=True)"
      ]
    },
    {
      "cell_type": "markdown",
      "id": "58b76c3b-d8d9-4a50-8e43-335d0d1097b8",
      "metadata": {
        "id": "58b76c3b-d8d9-4a50-8e43-335d0d1097b8"
      },
      "source": [
        "## Separated Chat Interface (Naive Rag vs Base Model llama )"
      ]
    },
    {
      "cell_type": "code",
      "execution_count": null,
      "id": "989347c6-09ea-4723-8f05-123e9777c1a1",
      "metadata": {
        "id": "989347c6-09ea-4723-8f05-123e9777c1a1",
        "outputId": "b2fcb90c-b857-40fb-b2cd-29eaeb9719f8"
      },
      "outputs": [
        {
          "name": "stdout",
          "output_type": "stream",
          "text": [
            "* Running on local URL:  http://0.0.0.0:7864\n",
            "* Running on public URL: https://68c44ebc344c27856f.gradio.live\n",
            "\n",
            "This share link expires in 1 week. For free permanent hosting and GPU upgrades, run `gradio deploy` from the terminal in the working directory to deploy to Hugging Face Spaces (https://huggingface.co/spaces)\n"
          ]
        },
        {
          "data": {
            "text/html": [
              "<div><iframe src=\"https://68c44ebc344c27856f.gradio.live\" width=\"100%\" height=\"500\" allow=\"autoplay; camera; microphone; clipboard-read; clipboard-write;\" frameborder=\"0\" allowfullscreen></iframe></div>"
            ],
            "text/plain": [
              "<IPython.core.display.HTML object>"
            ]
          },
          "metadata": {},
          "output_type": "display_data"
        },
        {
          "name": "stderr",
          "output_type": "stream",
          "text": [
            "The attention mask is not set and cannot be inferred from input because pad token is same as eos token. As a consequence, you may observe unexpected behavior. Please pass your input's `attention_mask` to obtain reliable results.\n"
          ]
        }
      ],
      "source": [
        "import gradio as gr\n",
        "import time\n",
        "import random\n",
        "\n",
        "# Mock chatbot functions - replace these with your actual chatbot APIs\n",
        "def chatbot_a_response(message, history):\n",
        "    \"\"\"Simulate Chatbot A response\"\"\"\n",
        "    if not message.strip():\n",
        "        return \"\", history\n",
        "\n",
        "    time.sleep(1)  # Simulate processing time\n",
        "    response = chat.send(message)\n",
        "\n",
        "    # Update gradio history format using messages format\n",
        "    history.append({\"role\": \"user\", \"content\": message})\n",
        "    history.append({\"role\": \"assistant\", \"content\": response})\n",
        "    return \"\", history\n",
        "\n",
        "def chatbot_b_response(message, chat_history):\n",
        "    \"\"\"Simulate Chatbot B response\"\"\"\n",
        "    if not message.strip():\n",
        "        return \"\", chat_history\n",
        "\n",
        "    time.sleep(1.2)  # Simulate different processing time\n",
        "    result = graph.invoke({\n",
        "        \"messages\": [\n",
        "            {\"role\": \"user\", \"content\": message}\n",
        "        ]\n",
        "    })\n",
        "    response = result[\"messages\"][-1].content\n",
        "\n",
        "    if not chat_history:\n",
        "        updated_history = [{\"role\": \"user\", \"content\": message}, {\"role\": \"assistant\", \"content\": response}]\n",
        "    else:\n",
        "        updated_history = chat_history + [{\"role\": \"user\", \"content\": message}, {\"role\": \"assistant\", \"content\": response}]\n",
        "\n",
        "    return \"\", updated_history\n",
        "\n",
        "def clear_chat_a():\n",
        "    \"\"\"Clear chat A history\"\"\"\n",
        "    chat.clear_history()\n",
        "    return []\n",
        "\n",
        "def clear_chat_b():\n",
        "    \"\"\"Clear chat B history\"\"\"\n",
        "    return []\n",
        "\n",
        "# Create the Gradio interface\n",
        "with gr.Blocks(title=\"Chatbot Comparison\", theme=gr.themes.Soft()) as demo:\n",
        "    gr.Markdown(\"# 🤖 Chatbot Performance Comparison\")\n",
        "    gr.Markdown(\"Compare responses from two different chatbots side by side - each with independent chat\")\n",
        "\n",
        "    with gr.Row():\n",
        "        # Chatbot A Column\n",
        "        with gr.Column(scale=1):\n",
        "            gr.Markdown(\"### 🔵 Chatbot A\")\n",
        "            chatbot_a = gr.Chatbot(\n",
        "                height=300,\n",
        "                show_label=False,\n",
        "                container=True,\n",
        "                type=\"messages\"\n",
        "            )\n",
        "\n",
        "            with gr.Row():\n",
        "                msg_a = gr.Textbox(\n",
        "                    placeholder=\"Message for Chatbot A...\",\n",
        "                    show_label=False,\n",
        "                    scale=4,\n",
        "                    container=False\n",
        "                )\n",
        "                send_btn_a = gr.Button(\"Send\", variant=\"primary\", scale=1)\n",
        "\n",
        "            clear_btn_a = gr.Button(\"Clear Chat A\", variant=\"secondary\", size=\"sm\")\n",
        "\n",
        "        # Chatbot B Column\n",
        "        with gr.Column(scale=1):\n",
        "            gr.Markdown(\"### 🔴 Chatbot B\")\n",
        "            chatbot_b = gr.Chatbot(\n",
        "                height=300,\n",
        "                show_label=False,\n",
        "                container=True,\n",
        "                type=\"messages\"\n",
        "            )\n",
        "\n",
        "            with gr.Row():\n",
        "                msg_b = gr.Textbox(\n",
        "                    placeholder=\"Message for Chatbot B...\",\n",
        "                    show_label=False,\n",
        "                    scale=4,\n",
        "                    container=False\n",
        "                )\n",
        "                send_btn_b = gr.Button(\"Send\", variant=\"primary\", scale=1)\n",
        "\n",
        "            clear_btn_b = gr.Button(\"Clear Chat B\", variant=\"secondary\", size=\"sm\")\n",
        "\n",
        "    # Add some example prompts for both\n",
        "    # with gr.Row():\n",
        "        # with gr.Column(scale=1):\n",
        "        #     gr.Examples(\n",
        "        #         examples=[\n",
        "        #             [\"What is artificial intelligence?\"],\n",
        "        #             [\"Explain quantum computing in simple terms\"],\n",
        "        #             [\"Write a short poem about nature\"],\n",
        "        #             [\"What are the benefits of renewable energy?\"]\n",
        "        #         ],\n",
        "        #         inputs=msg_a,\n",
        "        #         label=\"Example prompts for Chatbot A\"\n",
        "        #     )\n",
        "\n",
        "        # with gr.Column(scale=1):\n",
        "        #     gr.Examples(\n",
        "        #         examples=[\n",
        "        #             [\"What is artificial intelligence?\"],\n",
        "        #             [\"Explain quantum computing in simple terms\"],\n",
        "        #             [\"Write a short poem about nature\"],\n",
        "        #             [\"What are the benefits of renewable energy?\"]\n",
        "        #         ],\n",
        "        #         inputs=msg_b,\n",
        "        #         label=\"Example prompts for Chatbot B\"\n",
        "        #     )\n",
        "\n",
        "    # Event handlers for Chatbot A\n",
        "    send_btn_a.click(\n",
        "        fn=chatbot_a_response,\n",
        "        inputs=[msg_a, chatbot_a],\n",
        "        outputs=[msg_a, chatbot_a]\n",
        "    )\n",
        "\n",
        "    msg_a.submit(\n",
        "        fn=chatbot_a_response,\n",
        "        inputs=[msg_a, chatbot_a],\n",
        "        outputs=[msg_a, chatbot_a]\n",
        "    )\n",
        "\n",
        "    clear_btn_a.click(\n",
        "        fn=clear_chat_a,\n",
        "        outputs=[chatbot_a]\n",
        "    )\n",
        "\n",
        "    # Event handlers for Chatbot B\n",
        "    send_btn_b.click(\n",
        "        fn=chatbot_b_response,\n",
        "        inputs=[msg_b, chatbot_b],\n",
        "        outputs=[msg_b, chatbot_b]\n",
        "    )\n",
        "\n",
        "    msg_b.submit(\n",
        "        fn=chatbot_b_response,\n",
        "        inputs=[msg_b, chatbot_b],\n",
        "        outputs=[msg_b, chatbot_b]\n",
        "    )\n",
        "\n",
        "    clear_btn_b.click(\n",
        "        fn=clear_chat_b,\n",
        "        outputs=[chatbot_b]\n",
        "    )\n",
        "\n",
        "# Launch the interface\n",
        "if __name__ == \"__main__\":\n",
        "    demo.launch(\n",
        "        share=True,  # Set to True to create a public link\n",
        "        server_name=\"0.0.0.0\",  # Allow external connections\n",
        "        # Let Gradio automatically find an available port\n",
        "        # server_port=7860  # Comment out or remove this line\n",
        "    )"
      ]
    },
    {
      "cell_type": "markdown",
      "id": "9131337e-17ea-49e6-a9aa-b0c4798ddfe1",
      "metadata": {
        "id": "9131337e-17ea-49e6-a9aa-b0c4798ddfe1"
      },
      "source": [
        "## 10. Graphic User Interface using Gradio"
      ]
    },
    {
      "cell_type": "markdown",
      "id": "cbe4ac34-36bd-4c27-97c3-f1d72407f687",
      "metadata": {
        "id": "cbe4ac34-36bd-4c27-97c3-f1d72407f687"
      },
      "source": []
    },
    {
      "cell_type": "code",
      "execution_count": null,
      "id": "574ef629-9c70-410b-a887-973cf4d5e21b",
      "metadata": {
        "id": "574ef629-9c70-410b-a887-973cf4d5e21b",
        "outputId": "48e8114a-dc6a-4a7d-cec1-b225d5688e1a"
      },
      "outputs": [
        {
          "name": "stderr",
          "output_type": "stream",
          "text": [
            "huggingface/tokenizers: The current process just got forked, after parallelism has already been used. Disabling parallelism to avoid deadlocks...\n",
            "To disable this warning, you can either:\n",
            "\t- Avoid using `tokenizers` before the fork if possible\n",
            "\t- Explicitly set the environment variable TOKENIZERS_PARALLELISM=(true | false)\n"
          ]
        },
        {
          "name": "stdout",
          "output_type": "stream",
          "text": [
            "Sat Jun 28 01:32:58 2025       \n",
            "+-----------------------------------------------------------------------------------------+\n",
            "| NVIDIA-SMI 565.57.01              Driver Version: 565.57.01      CUDA Version: 12.7     |\n",
            "|-----------------------------------------+------------------------+----------------------+\n",
            "| GPU  Name                 Persistence-M | Bus-Id          Disp.A | Volatile Uncorr. ECC |\n",
            "| Fan  Temp   Perf          Pwr:Usage/Cap |           Memory-Usage | GPU-Util  Compute M. |\n",
            "|                                         |                        |               MIG M. |\n",
            "|=========================================+========================+======================|\n",
            "|   0  NVIDIA A100-SXM4-80GB          On  |   00000000:01:00.0 Off |                    0 |\n",
            "| N/A   33C    P0             76W /  500W |    7567MiB /  81920MiB |      0%      Default |\n",
            "|                                         |                        |             Disabled |\n",
            "+-----------------------------------------+------------------------+----------------------+\n",
            "|   1  NVIDIA A100-SXM4-80GB          On  |   00000000:41:00.0 Off |                    0 |\n",
            "| N/A   30C    P0             73W /  500W |    8051MiB /  81920MiB |      0%      Default |\n",
            "|                                         |                        |             Disabled |\n",
            "+-----------------------------------------+------------------------+----------------------+\n",
            "|   2  NVIDIA A100-SXM4-80GB          On  |   00000000:81:00.0 Off |                    0 |\n",
            "| N/A   32C    P0             74W /  500W |    8051MiB /  81920MiB |      0%      Default |\n",
            "|                                         |                        |             Disabled |\n",
            "+-----------------------------------------+------------------------+----------------------+\n",
            "|   3  NVIDIA A100-SXM4-80GB          On  |   00000000:C1:00.0 Off |                    0 |\n",
            "| N/A   31C    P0             71W /  500W |   18151MiB /  81920MiB |      0%      Default |\n",
            "|                                         |                        |             Disabled |\n",
            "+-----------------------------------------+------------------------+----------------------+\n",
            "                                                                                         \n",
            "+-----------------------------------------------------------------------------------------+\n",
            "| Processes:                                                                              |\n",
            "|  GPU   GI   CI        PID   Type   Process name                              GPU Memory |\n",
            "|        ID   ID                                                               Usage      |\n",
            "|=========================================================================================|\n",
            "|    0   N/A  N/A   2364740      C   ...nvs/ollama-python-0.5.1//bin/python       7556MiB |\n",
            "|    1   N/A  N/A   2364740      C   ...nvs/ollama-python-0.5.1//bin/python       8040MiB |\n",
            "|    2   N/A  N/A   2364740      C   ...nvs/ollama-python-0.5.1//bin/python       8040MiB |\n",
            "|    3   N/A  N/A   2364740      C   ...nvs/ollama-python-0.5.1//bin/python       7208MiB |\n",
            "|    3   N/A  N/A   2365625      C   /packages/apps/ollama/0.9.0/bin/ollama      10926MiB |\n",
            "+-----------------------------------------------------------------------------------------+\n"
          ]
        }
      ],
      "source": [
        "!nvidia-smi"
      ]
    },
    {
      "cell_type": "code",
      "execution_count": null,
      "id": "8bbb1271-8ef8-4d17-b417-d6378e05410d",
      "metadata": {
        "id": "8bbb1271-8ef8-4d17-b417-d6378e05410d"
      },
      "outputs": [],
      "source": []
    }
  ],
  "metadata": {
    "kernelspec": {
      "display_name": "ollama-python-0.5.1",
      "language": "python",
      "name": "ollama-python-0.5.1"
    },
    "language_info": {
      "codemirror_mode": {
        "name": "ipython",
        "version": 3
      },
      "file_extension": ".py",
      "mimetype": "text/x-python",
      "name": "python",
      "nbconvert_exporter": "python",
      "pygments_lexer": "ipython3",
      "version": "3.13.3"
    },
    "colab": {
      "provenance": []
    }
  },
  "nbformat": 4,
  "nbformat_minor": 5
}